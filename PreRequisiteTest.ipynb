{
 "cells": [
  {
   "cell_type": "markdown",
   "metadata": {},
   "source": [
    "# q1\n",
    "\n",
    "In matrix multiplication, the process involves multiplying the elements of the ith row in matrix 1 with the corresponding columns in matrix 2, followed by the summation of k products. This operation is iteratively performed for all m columns of matrix 2 and all n rows of matrix 1.\n",
    "\n",
    "Hence, Number of multiplications : n*m*k\n",
    "\n",
    "Number of additions : n*m*(k-1)"
   ]
  },
  {
   "cell_type": "markdown",
   "metadata": {},
   "source": [
    "# q2"
   ]
  },
  {
   "cell_type": "code",
   "execution_count": 23,
   "metadata": {},
   "outputs": [
    {
     "name": "stdout",
     "output_type": "stream",
     "text": [
      "[176, 183, 211]\n",
      "[119, 205, 176]\n",
      "[116, 160, 151]\n",
      "\n",
      "\n",
      "Time: 0.0005259513854980469\n"
     ]
    }
   ],
   "source": [
    "import time\n",
    "# a) Using List of Lists:\n",
    "\n",
    "A = [[2,4,3,1,2,7,9,1,4,6,4],\n",
    "     [3,4,2,0,9,4,1,6,3,2,3],\n",
    "     [1,3,2,1,4,2,3,5,5,3,1]]\n",
    "\n",
    "\n",
    "B = [[1,2,3],\n",
    "     [4,5,6],\n",
    "     [7,8,9],\n",
    "     [1,0,1],\n",
    "     [2,8,1],\n",
    "     [4,5,6],\n",
    "     [5,1,2],\n",
    "     [1,5,7],\n",
    "     [9,8,6],\n",
    "     [1,5,6],\n",
    "     [4,2,6]]\n",
    "\n",
    "AB = [[0,0,0],\n",
    "      [0,0,0],\n",
    "      [0,0,0]]\n",
    "\n",
    "start=time.time()\n",
    "\n",
    "for a in range(len(A)): # Row-wise for Matrix 1\n",
    "   for b in range(len(B[0])): # Column wise for Matrix 2\n",
    "       for k in range(len(B)): # k times multiplication and consequently addition\n",
    "           AB[a][b] = AB[a][b] + A[a][k] * B[k][b]\n",
    "\n",
    "for ab in AB:\n",
    "   print(ab)\n",
    "\n",
    "print('\\n')\n",
    "\n",
    "print(f'Time: {time.time() - start}')"
   ]
  },
  {
   "cell_type": "code",
   "execution_count": 24,
   "metadata": {},
   "outputs": [
    {
     "name": "stdout",
     "output_type": "stream",
     "text": [
      "[[176 183 211]\n",
      " [119 205 176]\n",
      " [116 160 151]] \n",
      "\n",
      "Time: 0.00026297569274902344\n"
     ]
    }
   ],
   "source": [
    "# b) using numpy array\n",
    "import numpy as np\n",
    "\n",
    "A = [[2,4,3,1,2,7,9,1,4,6,4],\n",
    "     [3,4,2,0,9,4,1,6,3,2,3],\n",
    "     [1,3,2,1,4,2,3,5,5,3,1]]\n",
    "\n",
    "B = [[1,2,3],\n",
    "     [4,5,6],\n",
    "     [7,8,9],\n",
    "     [1,0,1],\n",
    "     [2,8,1],\n",
    "     [4,5,6],\n",
    "     [5,1,2],\n",
    "     [1,5,7],\n",
    "     [9,8,6],\n",
    "     [1,5,6],\n",
    "     [4,2,6]]\n",
    "\n",
    "start=time.time()\n",
    "\n",
    "print(np.matmul(A,B),'\\n')\n",
    "\n",
    "print(f'Time: {time.time() - start}')"
   ]
  },
  {
   "cell_type": "markdown",
   "metadata": {},
   "source": [
    "From the run time it is clear that the numpy timing is faster.\n",
    "\n",
    "NumPy utilizes efficient low-level techniques, resulting in shorter execution times. Its optimized implementation shines, especially with large matrices, where the difference in performance becomes evident."
   ]
  },
  {
   "cell_type": "markdown",
   "metadata": {},
   "source": [
    "# q3\n",
    "Time complexity for one pass of the array is n. n being the number of elements in the array. Also, the median is the (n+1)/2 th largest element in the array (For odd n) and average of n/2 th and n/2+1 th element.\n",
    "Hence it will have a total of n*(n+1)/2= O(n^2) time complexity.\n",
    "\n",
    "A better method would be to sort the elements of the array in the increasing order in O(nlogn) complexity and then easily find the median by the index.\n",
    "\n",
    "Implementation and comparison in Python:"
   ]
  },
  {
   "cell_type": "code",
   "execution_count": 25,
   "metadata": {},
   "outputs": [
    {
     "name": "stdout",
     "output_type": "stream",
     "text": [
      "4\n",
      "\n",
      "\n",
      "Time: 0.00015306472778320312\n"
     ]
    }
   ],
   "source": [
    "#given method\n",
    "import numpy as np\n",
    "import time\n",
    "\n",
    "arr=np.array([17,6,19,18,4,2,1,4,3]) \n",
    "high=np.array([0,0,0,0,0])\n",
    "\n",
    "start=time.time()\n",
    "\n",
    "for i in range(5):\n",
    "    if i==0:\n",
    "        for j in arr:\n",
    "            if j>high[i]:\n",
    "                high[i]=j\n",
    "    else:\n",
    "        for j in arr:\n",
    "            if high[i-1]>j>high[i]:\n",
    "                high[i]=j\n",
    "                \n",
    "print(high[4])\n",
    "\n",
    "print('\\n')\n",
    "\n",
    "print(f'Time: {time.time() - start}')"
   ]
  },
  {
   "cell_type": "code",
   "execution_count": 26,
   "metadata": {},
   "outputs": [
    {
     "name": "stdout",
     "output_type": "stream",
     "text": [
      "4\n",
      "\n",
      "\n",
      "Time: 9.202957153320312e-05\n"
     ]
    }
   ],
   "source": [
    "#sort method\n",
    "import numpy as np\n",
    "import time\n",
    "\n",
    "arr=np.array([17,6,19,18,4,2,1,4,3]) #9 element array\n",
    "\n",
    "start=time.time()\n",
    "\n",
    "np.sort(arr)\n",
    "print(arr[4])\n",
    "\n",
    "print('\\n')\n",
    "\n",
    "print(f'Time: {time.time() - start}')"
   ]
  },
  {
   "cell_type": "code",
   "execution_count": 27,
   "metadata": {},
   "outputs": [
    {
     "name": "stdout",
     "output_type": "stream",
     "text": [
      "4.0\n",
      "\n",
      "\n",
      "Time: 0.0002460479736328125\n"
     ]
    }
   ],
   "source": [
    "#numpy method\n",
    "import numpy as np\n",
    "import time\n",
    "\n",
    "\n",
    "arr=np.array([17,16,19,18,4,2,1,4,3]) #9 element array\n",
    "\n",
    "start=time.time() \n",
    "\n",
    "print(np.median(arr))\n",
    "\n",
    "print('\\n')\n",
    "\n",
    "print(f'Time: {time.time() - start}')"
   ]
  },
  {
   "cell_type": "markdown",
   "metadata": {},
   "source": [
    "The numpy.median method is faster than the other two methods."
   ]
  },
  {
   "cell_type": "markdown",
   "metadata": {},
   "source": [
    "# q4\n",
    "$\\ f(x, y)=x^2 *y + y^3*sin(x) $ <br><br>\n",
    "$\\frac{\\partial f}{\\partial x} = 2*x*y + y^3*cos(x)$ <br><br>\n",
    "$\\frac{\\partial f}{\\partial y} = x^2 + 3 y^2 sin(x)$"
   ]
  },
  {
   "cell_type": "markdown",
   "metadata": {},
   "source": [
    "# q5"
   ]
  },
  {
   "cell_type": "code",
   "execution_count": 32,
   "metadata": {},
   "outputs": [
    {
     "name": "stdout",
     "output_type": "stream",
     "text": [
      "Result for (pi,1):  (Array(3.1415927, dtype=float32, weak_type=True), Array(5.4674015, dtype=float32, weak_type=True))\n",
      "Result for (0,1):  (Array(8., dtype=float32, weak_type=True), Array(0., dtype=float32, weak_type=True))\n"
     ]
    }
   ],
   "source": [
    "import jax\n",
    "import jax.numpy as jnp\n",
    "# import numpy as np\n",
    "\n",
    "def f(x,y):\n",
    "    return x*x*y + y*y*y*jnp.sin(x)\n",
    "\n",
    "grad_f=jax.grad(f,argnums=(0,1))\n",
    "\n",
    "result1 = grad_f(jnp.pi/2,1.0)\n",
    "print(\"Result for (pi,1): \",result1) \n",
    "result2 = grad_f(0.0,2.0)\n",
    "print(\"Result for (0,1): \",result2) "
   ]
  },
  {
   "cell_type": "markdown",
   "metadata": {},
   "source": [
    "# q6\n"
   ]
  },
  {
   "cell_type": "code",
   "execution_count": 30,
   "metadata": {},
   "outputs": [
    {
     "name": "stdout",
     "output_type": "stream",
     "text": [
      "(2*R.x*R.y + R.y**3*cos(R.x))*R.i + (R.x**2 + 3*R.y**2*sin(R.x))*R.j\n"
     ]
    }
   ],
   "source": [
    "from sympy.vector import CoordSys3D, gradient\n",
    "import sympy\n",
    "R = CoordSys3D('R')\n",
    "s1 = (R.x**2)*R.y + (R.y**3)*sympy.sin(R.x)\n",
    "print(gradient(s1))"
   ]
  },
  {
   "cell_type": "markdown",
   "metadata": {},
   "source": [
    "# q7\n"
   ]
  },
  {
   "cell_type": "code",
   "execution_count": 38,
   "metadata": {},
   "outputs": [
    {
     "name": "stdout",
     "output_type": "stream",
     "text": [
      "90\n"
     ]
    }
   ],
   "source": [
    "student_records = {\n",
    "    2022: {\n",
    "        'Branch 1': {\n",
    "            'Roll Number': 1,\n",
    "            'Name': 'N',\n",
    "            'Marks': {\n",
    "                'Maths': 100,\n",
    "                'English': 70\n",
    "            }\n",
    "        },\n",
    "        'Branch 2': {\n",
    "            'Roll Number': 2,\n",
    "            'Name': 'M',\n",
    "            'Marks': {\n",
    "                'Maths': 90,\n",
    "                'English': 80\n",
    "            }\n",
    "        }\n",
    "    },\n",
    "    2023: {\n",
    "        'Branch 1': {\n",
    "        },\n",
    "        'Branch 2': {\n",
    "        }\n",
    "    },\n",
    "    2024: {\n",
    "        'Branch 1': {\n",
    "        },\n",
    "        'Branch 2': {\n",
    "        }\n",
    "    },\n",
    "    2025: {\n",
    "        'Branch 1': {\n",
    "        },\n",
    "        'Branch 2': {\n",
    "        }\n",
    "    }\n",
    "}\n",
    "\n",
    "# print statement for checking\n",
    "print(student_records[2022]['Branch 2']['Marks']['Maths'])  \n"
   ]
  },
  {
   "cell_type": "markdown",
   "metadata": {},
   "source": [
    "# q8"
   ]
  },
  {
   "cell_type": "code",
   "execution_count": 36,
   "metadata": {},
   "outputs": [
    {
     "name": "stdout",
     "output_type": "stream",
     "text": [
      "N\n"
     ]
    }
   ],
   "source": [
    "class Student:\n",
    "    def __init__(self, roll_number, name, marks):\n",
    "        self.roll_number = roll_number\n",
    "        self.name = name\n",
    "        self.marks = marks  # Dictionary with subject marks\n",
    "\n",
    "class Branch:\n",
    "    def __init__(self, name):\n",
    "        self.name = name\n",
    "        self.students = []  # List of Student objects\n",
    "\n",
    "    def add_student(self, student):\n",
    "        self.students.append(student)\n",
    "\n",
    "class Year:\n",
    "    def __init__(self, year):\n",
    "        self.year = year\n",
    "        self.branches = []  # List of Branch objects\n",
    "\n",
    "    def add_branch(self, branch):\n",
    "        self.branches.append(branch)\n",
    "\n",
    "student_1 = Student(1, 'N', {'Maths': 100, 'English': 70})\n",
    "student_2 = Student(2, 'M', {'Maths': 90, 'English': 80})\n",
    "\n",
    "branch_1_2022 = Branch('Branch 1')\n",
    "branch_2_2022 = Branch('Branch 2')\n",
    "\n",
    "year_2022 = Year(2022)\n",
    "year_2022.add_branch(branch_1_2022)\n",
    "year_2022.add_branch(branch_2_2022)\n",
    "\n",
    "branch_1_2022.add_student(student_1)\n",
    "branch_2_2022.add_student(student_2)\n",
    "\n",
    "year_2022.add_branch(branch_1_2022)\n",
    "year_2022.add_branch(branch_2_2022)\n",
    "\n",
    "database = [year_2022]\n",
    "\n",
    "# print statement for checking\n",
    "print(database[0].branches[0].students[0].name)  \n"
   ]
  },
  {
   "cell_type": "markdown",
   "metadata": {},
   "source": [
    "# q9\n"
   ]
  },
  {
   "cell_type": "code",
   "execution_count": 39,
   "metadata": {},
   "outputs": [
    {
     "data": {
      "image/png": "[encoded data removed]",
      "text/plain": [
       "<Figure size 640x480 with 1 Axes>"
      ]
     },
     "metadata": {},
     "output_type": "display_data"
    }
   ],
   "source": [
    "import matplotlib.pyplot as plt\n",
    "x_values=np.arange(0.5,100,0.5)\n",
    "\n",
    "def f1(x):\n",
    "    y=[]\n",
    "    for ele in x:\n",
    "        y.append(ele)\n",
    "    return y\n",
    "\n",
    "def f2(x):\n",
    "    y=[]\n",
    "    for ele in x:\n",
    "        y.append(ele*ele)\n",
    "    return y\n",
    "\n",
    "def f3(x):\n",
    "    y=[]\n",
    "    for ele in x:\n",
    "        y.append(ele*ele*ele/100)\n",
    "    return y\n",
    "\n",
    "def f4(x):\n",
    "    y=[]\n",
    "    for ele in x:\n",
    "        y.append(np.sin(ele))\n",
    "    return y\n",
    "\n",
    "def f5(x):\n",
    "    y=[]\n",
    "    for ele in x:\n",
    "        y.append(np.sin(ele)/ele)\n",
    "    return y\n",
    "\n",
    "def f6(x):\n",
    "    y=[]\n",
    "    for ele in x:\n",
    "        y.append(np.log(ele))\n",
    "    return y\n",
    "\n",
    "def f7(x):\n",
    "    y=[]\n",
    "    for ele in x:\n",
    "        y.append(np.exp(ele))\n",
    "    return y\n",
    "\n",
    "y_values=f1(x_values)\n",
    "plt.plot(x_values,y_values,label='y=x')\n",
    "y_values=f2(x_values)\n",
    "plt.plot(x_values,y_values,label='y=x^2')\n",
    "y_values=f3(x_values)\n",
    "plt.plot(x_values,y_values,label='y=x^3/100')\n",
    "y_values=f4(x_values)\n",
    "plt.plot(x_values,y_values,label='y=sin(x)')\n",
    "y_values=f5(x_values)\n",
    "plt.plot(x_values,y_values,label='y=sin(x)/x')\n",
    "y_values=f6(x_values)\n",
    "plt.plot(x_values,y_values,label='y=log(x)')\n",
    "y_values=f7(x_values)\n",
    "plt.plot(x_values,y_values,label='y=e^x')\n",
    "\n",
    "plt.xlabel('x')\n",
    "plt.ylabel('y')\n",
    "plt.title('Plot of y=x')\n",
    "plt.xlim(0,100)\n",
    "plt.ylim(0,100)\n",
    "\n",
    "plt.legend()\n",
    "plt.show()"
   ]
  },
  {
   "cell_type": "markdown",
   "metadata": {},
   "source": [
    "# q10"
   ]
  },
  {
   "cell_type": "code",
   "execution_count": 42,
   "metadata": {},
   "outputs": [
    {
     "name": "stdout",
     "output_type": "stream",
     "text": [
      "           a         b         c         d         e\n",
      "0   1.998609  1.463930  1.651095  1.540997  1.566864\n",
      "1   1.029264  1.745134  1.938066  1.169357  1.334908\n",
      "2   1.955133  1.179861  1.836200  1.996504  1.741617\n",
      "3   1.741723  1.788253  1.274976  1.807611  1.750787\n",
      "4   1.586324  1.050070  1.398208  1.226729  1.044579\n",
      "5   1.991338  1.742399  1.304915  1.059561  1.979996\n",
      "6   1.862851  1.125536  1.852118  1.627645  1.767684\n",
      "7   1.727064  1.336160  1.103387  1.805589  1.454580\n",
      "8   1.297541  1.473339  1.523917  1.834185  1.937564\n",
      "9   1.888696  1.558674  1.107744  1.547335  1.594627\n",
      "10  1.120140  1.359561  1.998258  1.345958  1.803119\n",
      "11  1.818447  1.775170  1.271169  1.198549  1.291302\n",
      "12  1.522711  1.387461  1.024397  1.795958  1.496931\n",
      "13  1.096017  1.278512  1.042498  1.906441  1.925812\n",
      "14  1.463721  1.455205  1.712103  1.520945  1.682648\n",
      "15  1.998964  1.775946  1.152021  1.282362  1.342008\n",
      "16  1.967893  1.849529  1.482123  1.818290  1.486015\n",
      "17  1.455467  1.884161  1.181775  1.575696  1.040761\n",
      "18  1.568134  1.676771  1.833157  1.788038  1.600383\n",
      "19  1.211885  1.032951  1.238710  1.147473  1.066654\n",
      "\n",
      "Column with the highest standard deviation: a\n",
      "Row with the lowest mean: 19\n"
     ]
    }
   ],
   "source": [
    "import numpy as np\n",
    "import pandas as pd\n",
    "\n",
    "matrix = np.random.uniform(1, 2, size=(20, 5))\n",
    "\n",
    "df = pd.DataFrame(matrix, columns=['a', 'b', 'c', 'd', 'e'])\n",
    "\n",
    "highest_std_column = df.std().idxmax()\n",
    "lowest_mean_row = df.mean(axis=1).idxmin()\n",
    "\n",
    "print(df)\n",
    "print(\"\\nColumn with the highest standard deviation:\", highest_std_column)\n",
    "print(\"Row with the lowest mean:\", lowest_mean_row)\n"
   ]
  },
  {
   "cell_type": "markdown",
   "metadata": {},
   "source": [
    "# q11"
   ]
  },
  {
   "cell_type": "code",
   "execution_count": 43,
   "metadata": {},
   "outputs": [
    {
     "name": "stdout",
     "output_type": "stream",
     "text": [
      "           a         b         c         d         e         f    g\n",
      "0   1.953228  1.065325  1.304291  1.874218  1.642008  7.839070  LT8\n",
      "1   1.099684  1.807907  1.201997  1.078447  1.510103  6.698138  LT8\n",
      "2   1.355490  1.456237  1.663418  1.513135  1.691944  7.680223  LT8\n",
      "3   1.289637  1.104901  1.394374  1.772523  1.705808  7.267243  LT8\n",
      "4   1.730273  1.487665  1.388772  1.556169  1.192571  7.355449  LT8\n",
      "5   1.699103  1.423935  1.186844  1.702757  1.605371  7.618010  LT8\n",
      "6   1.456526  1.313016  1.342938  1.708049  1.787787  7.608316  LT8\n",
      "7   1.290431  1.946002  1.920816  1.825496  1.062723  8.045467  GT8\n",
      "8   1.744871  1.698831  1.425217  1.957342  1.245480  8.071742  GT8\n",
      "9   1.304230  1.548165  1.619210  1.688311  1.153622  7.313538  LT8\n",
      "10  1.838635  1.064584  1.563526  1.459190  1.912036  7.837970  LT8\n",
      "11  1.164973  1.633379  1.231438  1.230859  1.825513  7.086161  LT8\n",
      "12  1.315064  1.656687  1.349290  1.327786  1.935785  7.584613  LT8\n",
      "13  1.689569  1.743310  1.417843  1.292206  1.648207  7.791134  LT8\n",
      "14  1.555297  1.427805  1.722707  1.763159  1.710673  8.179641  GT8\n",
      "15  1.574418  1.302526  1.818041  1.108317  1.278302  7.081602  LT8\n",
      "16  1.745208  1.990908  1.544767  1.837312  1.292927  8.411122  GT8\n",
      "17  1.424190  1.806061  1.019933  1.955364  1.734405  7.939953  LT8\n",
      "18  1.076829  1.935765  1.957305  1.415874  1.320810  7.706583  LT8\n",
      "19  1.391957  1.476224  1.959642  1.113084  1.816399  7.757307  LT8\n",
      "\n",
      "Number of rows where 'g' is 'LT8': 16\n",
      "Standard deviation of 'f' where 'g' is 'LT8': 0.34439564845451026\n",
      "Standard deviation of 'f' where 'g' is 'GT8': 0.16653338919602198\n"
     ]
    }
   ],
   "source": [
    "import numpy as np\n",
    "import pandas as pd\n",
    "\n",
    "matrix = np.random.uniform(1, 2, size=(20, 5))\n",
    "\n",
    "df = pd.DataFrame(matrix, columns=['a', 'b', 'c', 'd', 'e'])\n",
    "\n",
    "df['f'] = df[['a', 'b', 'c', 'd', 'e']].sum(axis=1)\n",
    "df['g'] = np.where(df['f'] < 8, 'LT8', 'GT8')\n",
    "\n",
    "lt8_rows_count = df[df['g'] == 'LT8'].shape[0]\n",
    "\n",
    "std_lt8 = df.loc[df['g'] == 'LT8', 'f'].std()\n",
    "std_gt8 = df.loc[df['g'] == 'GT8', 'f'].std()\n",
    "\n",
    "print(df)\n",
    "print(\"\\nNumber of rows where 'g' is 'LT8':\", lt8_rows_count)\n",
    "print(\"Standard deviation of 'f' where 'g' is 'LT8':\", std_lt8)\n",
    "print(\"Standard deviation of 'f' where 'g' is 'GT8':\", std_gt8)\n"
   ]
  },
  {
   "cell_type": "markdown",
   "metadata": {},
   "source": [
    "# q12"
   ]
  },
  {
   "cell_type": "code",
   "execution_count": 44,
   "metadata": {},
   "outputs": [
    {
     "name": "stdout",
     "output_type": "stream",
     "text": [
      "Original array:\n",
      "[[1 2 3]\n",
      " [4 5 6]]\n",
      "\n",
      "After broadcasting:\n",
      "[[11 12 13]\n",
      " [14 15 16]]\n"
     ]
    }
   ],
   "source": [
    "import numpy as np\n",
    "\n",
    "# Create a 2x3 array\n",
    "array_a = np.array([[1, 2, 3],\n",
    "                    [4, 5, 6]])\n",
    "\n",
    "# Add a scalar (broadcasting)\n",
    "result = array_a + 10\n",
    "\n",
    "print(\"Original array:\")\n",
    "print(array_a)\n",
    "\n",
    "print(\"\\nAfter broadcasting:\")\n",
    "print(result)\n"
   ]
  },
  {
   "cell_type": "markdown",
   "metadata": {},
   "source": [
    "In this example, the scalar value 10 is broadcasted to each element in the original 2x3 array array_a. This is possible because NumPy automatically expands the shape of the scalar to match the shape of array_a, and the addition operation is performed element-wise. The result is a new array where each element is increased by 10."
   ]
  },
  {
   "cell_type": "markdown",
   "metadata": {},
   "source": [
    "# q13"
   ]
  },
  {
   "cell_type": "code",
   "execution_count": 45,
   "metadata": {},
   "outputs": [
    {
     "name": "stdout",
     "output_type": "stream",
     "text": [
      "9\n",
      "9\n"
     ]
    }
   ],
   "source": [
    "import numpy as np\n",
    "\n",
    "def argmin(arr):\n",
    "  min = arr[0]\n",
    "  mini = 0\n",
    "\n",
    "  for i in range(len(arr)):\n",
    "    if arr[i] < min:\n",
    "      min = arr[i]\n",
    "      mini = i\n",
    "  return mini\n",
    "\n",
    "arr=np.array([9,8,5,5,7,6,3,7,7,1])\n",
    "print(argmin(arr))\n",
    "print(np.argmin(arr))"
   ]
  }
 ],
 "metadata": {
  "kernelspec": {
   "display_name": "Python 3",
   "language": "python",
   "name": "python3"
  },
  "language_info": {
   "codemirror_mode": {
    "name": "ipython",
    "version": 3
   },
   "file_extension": ".py",
   "mimetype": "text/x-python",
   "name": "python",
   "nbconvert_exporter": "python",
   "pygments_lexer": "ipython3",
   "version": "3.12.1"
  }
 },
 "nbformat": 4,
 "nbformat_minor": 2
}
